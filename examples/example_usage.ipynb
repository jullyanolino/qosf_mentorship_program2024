# example_usage.ipynb

# Import necessary libraries
import numpy as np
from src.quantum_simulator import QuantumSimulator, QuantumGate
import matplotlib.pyplot as plt

# Introduction
# ---
# In this notebook, we demonstrate how to use the QuantumSimulator to build, simulate, and analyze simple quantum circuits.
# The notebook includes examples of applying quantum gates, measuring qubit states, and calculating expectation values.

# 1. Initializing the Quantum Simulator
# ---
# We start by initializing a QuantumSimulator with two qubits.
simulator = QuantumSimulator(n_qubits=2)
print("Initial state vector:\n", simulator.state_vector)

# 2. Applying Quantum Gates (Matrix Method)
# ---
# We define a Hadamard gate (H) on qubit 0 and a CNOT gate on qubits 0 and 1.
h_gate = QuantumGate(matrix=simulator.H, target_qubits=[0], name="H")
cnot_gate = QuantumGate(matrix=simulator.CNOT, target_qubits=[0, 1], name="CNOT")

# Apply H gate on qubit 0
simulator.apply_gate_matrix(h_gate)
print("\nState vector after applying H on qubit 0:\n", simulator.state_vector)

# Apply CNOT gate on qubits 0 and 1
simulator.apply_gate_matrix(cnot_gate)
print("\nState vector after applying CNOT on qubits 0 and 1:\n", simulator.state_vector)

# 3. Measuring the State
# ---
# We sample the quantum state 1000 times to approximate the probability distribution over possible states.
samples = simulator.measure(samples=1000)
unique, counts = np.unique(samples, return_counts=True)
probabilities = dict(zip(unique, counts / 1000))
print("\nMeasurement results (approximate probabilities):")
for state, prob in probabilities.items():
    print(f"|{bin(state)[2:].zfill(2)}> : {prob:.3f}")

# Plot the results
plt.figure(figsize=(8, 4))
plt.bar([f"|{bin(s)[2:].zfill(2)}>" for s in unique], probabilities.values(), color="skyblue")
plt.title("Measurement Results for |ψ> = (|00> + |11>) / √2")
plt.ylabel("Probability")
plt.show()

# 4. Calculating Expectation Values
# ---
# To calculate the expectation value of Z ⊗ I (the Pauli-Z operator on the first qubit), we use the expectation_value method.
Z = np.array([[1, 0], [0, -1]])
ZI = np.kron(Z, simulator.I)
expectation_value = simulator.expectation_value(ZI)
print(f"\nExpectation value <Z ⊗ I> on final state: {expectation_value:.3f}")

# 5. Performance Benchmarking
# ---
# We benchmark the time taken for matrix and tensor methods as the number of qubits increases.
# This will help understand the performance trade-offs between the two approaches.

def benchmark_simulation(max_qubits: int, method: str = 'matrix'):
    qubit_range = range(2, max_qubits + 1)
    times = []
    for n_qubits in qubit_range:
        simulator = QuantumSimulator(n_qubits)
        h_gate = QuantumGate(simulator.H, [0], "H")
        cnot_gate = QuantumGate(simulator.CNOT, [0, 1], "CNOT")

        start_time = time.time()
        if method == 'matrix':
            simulator.apply_gate_matrix(h_gate)
            simulator.apply_gate_matrix(cnot_gate)
        else:
            simulator.apply_gate_tensor(h_gate)
            simulator.apply_gate_tensor(cnot_gate)
        times.append(time.time() - start_time)
    return list(qubit_range), times

# Run the benchmark
import time
max_qubits = 8
qubits_matrix, times_matrix = benchmark_simulation(max_qubits, 'matrix')
qubits_tensor, times_tensor = benchmark_simulation(max_qubits, 'tensor')

# Plotting the benchmark results
plt.figure(figsize=(10, 6))
plt.plot(qubits_matrix, times_matrix, 'o-', label='Matrix multiplication')
plt.plot(qubits_tensor, times_tensor, 's-', label='Tensor multiplication')
plt.xlabel('Number of qubits')
plt.ylabel('Execution time (seconds)')
plt.title('Quantum Circuit Simulation Performance')
plt.grid(True)
plt.legend()
plt.show()

# 6. Summary
# ---
# In this notebook, we demonstrated how to use the QuantumSimulator class for basic quantum circuit simulation.
# We showed how to initialize a state, apply gates, measure outcomes, calculate expectation values, and benchmark the performance of matrix and tensor-based methods.
# This provides a foundation for building more complex quantum circuits in the future.
