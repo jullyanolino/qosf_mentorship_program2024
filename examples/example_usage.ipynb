{
  "nbformat": 4,
  "nbformat_minor": 0,
  "metadata": {
    "colab": {
      "provenance": []
    },
    "kernelspec": {
      "name": "python3",
      "display_name": "Python 3"
    },
    "language_info": {
      "name": "python"
    }
  },
  "cells": [
    {
      "cell_type": "markdown",
      "source": [
        "# QOSF Mentorship Program2024\n",
        "Task 1: State Vector Simulation of Quantum Circuits"
      ],
      "metadata": {
        "id": "QtGXEjQE1CtM"
      }
    },
    {
      "cell_type": "markdown",
      "source": [
        "## Import necessary libraries"
      ],
      "metadata": {
        "id": "icU1j7cz1Jsn"
      }
    },
    {
      "cell_type": "code",
      "source": [
        "import numpy as np\n",
        "from src.quantum_simulator import QuantumSimulator, QuantumGate\n",
        "import matplotlib.pyplot as plt"
      ],
      "metadata": {
        "id": "BjscZQ9_1LRl"
      },
      "execution_count": null,
      "outputs": []
    },
    {
      "cell_type": "markdown",
      "source": [
        "## Introduction\n",
        "\n",
        "---\n",
        "In this notebook, it is demonstrated how to use the QuantumSimulator to build, simulate, and analyze simple quantum circuits.\n",
        "The notebook includes examples of applying quantum gates, measuring qubit states, and calculating expectation values.\n",
        "\n"
      ],
      "metadata": {
        "id": "CYGB3hPn1P-K"
      }
    },
    {
      "cell_type": "markdown",
      "source": [
        "## 1. Initializing the Quantum Simulator\n",
        " ---\n",
        "The task can be started by initializing a QuantumSimulator with two qubits."
      ],
      "metadata": {
        "id": "lYD4RScY1f9V"
      }
    },
    {
      "cell_type": "code",
      "source": [
        "simulator = QuantumSimulator(n_qubits=2)\n",
        "print(\"Initial state vector:\\n\", simulator.state_vector)"
      ],
      "metadata": {
        "id": "2cwxDFax1Q4f"
      },
      "execution_count": null,
      "outputs": []
    },
    {
      "cell_type": "markdown",
      "source": [
        "## 2. Applying Quantum Gates (Matrix Method)\n",
        "---\n",
        "Defining a Hadamard gate (H) on qubit 0 and a CNOT gate on qubits 0 and 1."
      ],
      "metadata": {
        "id": "X0myHgsw1t9_"
      }
    },
    {
      "cell_type": "code",
      "execution_count": null,
      "metadata": {
        "id": "fWdEcEI5m18R"
      },
      "outputs": [],
      "source": [
        "h_gate = QuantumGate(matrix=simulator.H, target_qubits=[0], name=\"H\")\n",
        "cnot_gate = QuantumGate(matrix=simulator.CNOT, target_qubits=[0, 1], name=\"CNOT\")"
      ]
    },
    {
      "cell_type": "markdown",
      "source": [
        "### 2.1) Apply H gate on qubit 0"
      ],
      "metadata": {
        "id": "XvEBKlSG18Ls"
      }
    },
    {
      "cell_type": "code",
      "source": [
        "simulator.apply_gate_matrix(h_gate)\n",
        "print(\"\\nState vector after applying H on qubit 0:\\n\", simulator.state_vector)\n"
      ],
      "metadata": {
        "id": "RpLfXod-2Ams"
      },
      "execution_count": null,
      "outputs": []
    },
    {
      "cell_type": "markdown",
      "source": [
        "### 2.2) Apply CNOT gate on qubits 0 and 1"
      ],
      "metadata": {
        "id": "sO-GBHQI2DV-"
      }
    },
    {
      "cell_type": "code",
      "source": [
        "simulator.apply_gate_matrix(cnot_gate)\n",
        "print(\"\\nState vector after applying CNOT on qubits 0 and 1:\\n\", simulator.state_vector)\n"
      ],
      "metadata": {
        "id": "35q8YAax2IYn"
      },
      "execution_count": null,
      "outputs": []
    },
    {
      "cell_type": "markdown",
      "source": [
        "## 3. Measuring the State\n",
        "---\n",
        "Sampling the quantum state 1000 times to approximate the probability distribution over possible states."
      ],
      "metadata": {
        "id": "Fj9SDcTu2MBl"
      }
    },
    {
      "cell_type": "code",
      "source": [
        "samples = simulator.measure(samples=1000)\n",
        "unique, counts = np.unique(samples, return_counts=True)\n",
        "probabilities = dict(zip(unique, counts / 1000))\n",
        "print(\"\\nMeasurement results (approximate probabilities):\")\n",
        "for state, prob in probabilities.items():\n",
        "    print(f\"|{bin(state)[2:].zfill(2)}> : {prob:.3f}\")"
      ],
      "metadata": {
        "id": "Y8_ND7__2QU9"
      },
      "execution_count": null,
      "outputs": []
    },
    {
      "cell_type": "markdown",
      "source": [
        "### 3.1) Plot the results"
      ],
      "metadata": {
        "id": "fmfl-OaJ2TEu"
      }
    },
    {
      "cell_type": "code",
      "source": [
        "plt.figure(figsize=(8, 4))\n",
        "plt.bar([f\"|{bin(s)[2:].zfill(2)}>\" for s in unique], probabilities.values(), color=\"skyblue\")\n",
        "plt.title(\"Measurement Results for |ψ> = (|00> + |11>) / √2\")\n",
        "plt.ylabel(\"Probability\")\n",
        "plt.show()"
      ],
      "metadata": {
        "id": "gUCbq8s62Y1k"
      },
      "execution_count": null,
      "outputs": []
    },
    {
      "cell_type": "markdown",
      "source": [
        "## 4. Calculating Expectation Values\n",
        "---\n",
        "To calculate the expectation value of Z ⊗ I (the Pauli-Z operator on the first qubit), it was used the expectation_value method."
      ],
      "metadata": {
        "id": "XcSHGxcd2bpk"
      }
    },
    {
      "cell_type": "code",
      "source": [
        "Z = np.array([[1, 0], [0, -1]])\n",
        "ZI = np.kron(Z, simulator.I)\n",
        "expectation_value = simulator.expectation_value(ZI)\n",
        "print(f\"\\nExpectation value <Z ⊗ I> on final state: {expectation_value:.3f}\")"
      ],
      "metadata": {
        "id": "WAS9TUgW2idr"
      },
      "execution_count": null,
      "outputs": []
    },
    {
      "cell_type": "markdown",
      "source": [
        "## 5. Performance Benchmarking\n",
        "---\n",
        "Here it is benchmarked the time taken for matrix and tensor methods as the number of qubits increases.\n",
        "This will help understand the performance trade-offs between the two approaches."
      ],
      "metadata": {
        "id": "qO66O8jv2jSw"
      }
    },
    {
      "cell_type": "code",
      "source": [
        "def benchmark_simulation(max_qubits: int, method: str = 'matrix'):\n",
        "    qubit_range = range(2, max_qubits + 1)\n",
        "    times = []\n",
        "    for n_qubits in qubit_range:\n",
        "        simulator = QuantumSimulator(n_qubits)\n",
        "        h_gate = QuantumGate(simulator.H, [0], \"H\")\n",
        "        cnot_gate = QuantumGate(simulator.CNOT, [0, 1], \"CNOT\")\n",
        "\n",
        "        start_time = time.time()\n",
        "        if method == 'matrix':\n",
        "            simulator.apply_gate_matrix(h_gate)\n",
        "            simulator.apply_gate_matrix(cnot_gate)\n",
        "        else:\n",
        "            simulator.apply_gate_tensor(h_gate)\n",
        "            simulator.apply_gate_tensor(cnot_gate)\n",
        "        times.append(time.time() - start_time)\n",
        "    return list(qubit_range), times"
      ],
      "metadata": {
        "id": "kCPdrM7y2oK6"
      },
      "execution_count": null,
      "outputs": []
    },
    {
      "cell_type": "markdown",
      "source": [
        "### 5.1) Run the benchmark"
      ],
      "metadata": {
        "id": "QLCOcu702sdk"
      }
    },
    {
      "cell_type": "code",
      "source": [
        "import time\n",
        "max_qubits = 8\n",
        "qubits_matrix, times_matrix = benchmark_simulation(max_qubits, 'matrix')\n",
        "qubits_tensor, times_tensor = benchmark_simulation(max_qubits, 'tensor')\n",
        "\n",
        "# Plotting the benchmark results\n",
        "plt.figure(figsize=(10, 6))\n",
        "plt.plot(qubits_matrix, times_matrix, 'o-', label='Matrix multiplication')\n",
        "plt.plot(qubits_tensor, times_tensor, 's-', label='Tensor multiplication')\n",
        "plt.xlabel('Number of qubits')\n",
        "plt.ylabel('Execution time (seconds)')\n",
        "plt.title('Quantum Circuit Simulation Performance')\n",
        "plt.grid(True)\n",
        "plt.legend()\n",
        "plt.show()"
      ],
      "metadata": {
        "id": "_eUhqWtA2wEk"
      },
      "execution_count": null,
      "outputs": []
    },
    {
      "cell_type": "markdown",
      "source": [
        "## 6. Summary\n",
        "---\n",
        "In this notebook, it was demonstrated how to use the QuantumSimulator class for basic quantum circuit simulation.\n",
        "\n",
        "It was showed how to initialize a state, apply gates, measure outcomes, calculate expectation values, and benchmark the performance of matrix and tensor-based methods.\n",
        "\n",
        "This provides a foundation for building more complex quantum circuits in the future."
      ],
      "metadata": {
        "id": "J2N8mE3M2yrJ"
      }
    },
    {
      "cell_type": "code",
      "source": [],
      "metadata": {
        "id": "NThXZjGP23oQ"
      },
      "execution_count": null,
      "outputs": []
    }
  ]
}